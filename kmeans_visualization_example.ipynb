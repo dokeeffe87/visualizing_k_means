{
 "cells": [
  {
   "cell_type": "markdown",
   "metadata": {},
   "source": [
    "## Example of clustering visualization using sample data a slightly modified pyldavis.\n",
    "* PyLDAVis is an open source package for visualizing topic distributions learned from an LDA model: https://github.com/bmabey/pyLDAvis\n",
    "* Some open source code already exists to port over the visualizations produced by pyLDAvis to k-means models: https://github.com/lovit/kmeans_to_pyLDAvis\n",
    "* This package is not pip installable, and a lot of the documentation seems to be in Korean. The code also seems to be geared to work with a specific k-means package. It's unclear if it works with scikit-learn k-means models\n",
    "* Here, we'll take some of the relevant parts of the code (see the additional python file) and make some modifications to make it work with scikit-learn k-means"
   ]
  },
  {
   "cell_type": "markdown",
   "metadata": {},
   "source": [
    "As a little refresher, the basic idea of cluserting is:\n",
    "\n",
    "* Identify an object/instance i by its feature vector $X_{i} = <X_{i}^{1}, X_{i}^{2}, \\ldots, X_{m}^{l}>$\n",
    "* Define a distance function $d \\left ( X_{i}, X_{j} \\right )$ to measure the distance between $X_{i}$ and $X_{j}$.\n",
    "* Create distinct groupings of instances that:\n",
    "    * Minimize intra-group distances\n",
    "    * Maximize inter-group distnace"
   ]
  },
  {
   "cell_type": "code",
   "execution_count": 19,
   "metadata": {},
   "outputs": [],
   "source": [
    "# Import modules\n",
    "import pandas as pd\n",
    "import numpy as np\n",
    "import matplotlib.pyplot as plt\n",
    "%matplotlib inline\n",
    "import os\n",
    "from sklearn import cluster\n",
    "from sklearn.metrics import pairwise_distances\n",
    "from sklearn import metrics"
   ]
  },
  {
   "cell_type": "code",
   "execution_count": 2,
   "metadata": {},
   "outputs": [],
   "source": [
    "# Set pandas preferences\n",
    "pd.options.display.max_columns=500\n",
    "pd.options.display.max_colwidth=500"
   ]
  },
  {
   "cell_type": "code",
   "execution_count": 24,
   "metadata": {},
   "outputs": [],
   "source": [
    "# Set plot style\n",
    "plt.style.use('ggplot')"
   ]
  },
  {
   "cell_type": "code",
   "execution_count": 4,
   "metadata": {},
   "outputs": [],
   "source": [
    "# Import the data.  This comes from a survey conducted by one of my colleagues at SparkBeyond at a class they taught at\n",
    "# NYU.  The data is student responses of their self scored proficency with certain subjects.  The goal will be to cluster\n",
    "# the students by these responses.\n",
    "d = pd.read_csv('survey_responses_2018.csv', header = 0, sep=',')\n",
    "dpro = d[['profile_{}'.format(k + 1) for k in range(7)]]\n",
    "dpro.columns = ['Viz', 'CS', 'Math', 'Stats', 'ML', 'Bus', 'Com']"
   ]
  },
  {
   "cell_type": "code",
   "execution_count": 5,
   "metadata": {},
   "outputs": [
    {
     "data": {
      "text/html": [
       "<div>\n",
       "<style scoped>\n",
       "    .dataframe tbody tr th:only-of-type {\n",
       "        vertical-align: middle;\n",
       "    }\n",
       "\n",
       "    .dataframe tbody tr th {\n",
       "        vertical-align: top;\n",
       "    }\n",
       "\n",
       "    .dataframe thead th {\n",
       "        text-align: right;\n",
       "    }\n",
       "</style>\n",
       "<table border=\"1\" class=\"dataframe\">\n",
       "  <thead>\n",
       "    <tr style=\"text-align: right;\">\n",
       "      <th></th>\n",
       "      <th>Viz</th>\n",
       "      <th>CS</th>\n",
       "      <th>Math</th>\n",
       "      <th>Stats</th>\n",
       "      <th>ML</th>\n",
       "      <th>Bus</th>\n",
       "      <th>Com</th>\n",
       "    </tr>\n",
       "  </thead>\n",
       "  <tbody>\n",
       "    <tr>\n",
       "      <th>0</th>\n",
       "      <td>2</td>\n",
       "      <td>2</td>\n",
       "      <td>2</td>\n",
       "      <td>5</td>\n",
       "      <td>0</td>\n",
       "      <td>3</td>\n",
       "      <td>6</td>\n",
       "    </tr>\n",
       "    <tr>\n",
       "      <th>1</th>\n",
       "      <td>4</td>\n",
       "      <td>9</td>\n",
       "      <td>7</td>\n",
       "      <td>7</td>\n",
       "      <td>6</td>\n",
       "      <td>3</td>\n",
       "      <td>8</td>\n",
       "    </tr>\n",
       "    <tr>\n",
       "      <th>2</th>\n",
       "      <td>7</td>\n",
       "      <td>5</td>\n",
       "      <td>4</td>\n",
       "      <td>3</td>\n",
       "      <td>2</td>\n",
       "      <td>9</td>\n",
       "      <td>9</td>\n",
       "    </tr>\n",
       "    <tr>\n",
       "      <th>3</th>\n",
       "      <td>7</td>\n",
       "      <td>7</td>\n",
       "      <td>5</td>\n",
       "      <td>4</td>\n",
       "      <td>1</td>\n",
       "      <td>6</td>\n",
       "      <td>8</td>\n",
       "    </tr>\n",
       "    <tr>\n",
       "      <th>4</th>\n",
       "      <td>7</td>\n",
       "      <td>6</td>\n",
       "      <td>8</td>\n",
       "      <td>8</td>\n",
       "      <td>4</td>\n",
       "      <td>6</td>\n",
       "      <td>7</td>\n",
       "    </tr>\n",
       "  </tbody>\n",
       "</table>\n",
       "</div>"
      ],
      "text/plain": [
       "   Viz  CS  Math  Stats  ML  Bus  Com\n",
       "0    2   2     2      5   0    3    6\n",
       "1    4   9     7      7   6    3    8\n",
       "2    7   5     4      3   2    9    9\n",
       "3    7   7     5      4   1    6    8\n",
       "4    7   6     8      8   4    6    7"
      ]
     },
     "execution_count": 5,
     "metadata": {},
     "output_type": "execute_result"
    }
   ],
   "source": [
    "dpro.head()"
   ]
  },
  {
   "cell_type": "code",
   "execution_count": 29,
   "metadata": {},
   "outputs": [],
   "source": [
    "# The subjects the students ranked themselves on are:\n",
    "# Viz: for data visualization\n",
    "# CS: for computer science\n",
    "# Math: for pure math\n",
    "# Stats: for statistics\n",
    "# ML: for machine learning\n",
    "# Bus: for business\n",
    "# Com: for communications"
   ]
  },
  {
   "cell_type": "code",
   "execution_count": 6,
   "metadata": {},
   "outputs": [
    {
     "data": {
      "image/png": "[encoded data removed]",
      "text/plain": [
       "<Figure size 720x432 with 7 Axes>"
      ]
     },
     "metadata": {},
     "output_type": "display_data"
    }
   ],
   "source": [
    "# We can take a look at the distribution of these responses\n",
    "fig = plt.figure(figsize = (10, 6))\n",
    "for i in range(7):\n",
    "    plt.subplot(3, 4, i + 1)\n",
    "    plt.hist(dpro[dpro.columns.values[i]])\n",
    "    plt.title(dpro.columns.values[i])\n",
    "\n",
    "fig.tight_layout()"
   ]
  },
  {
   "cell_type": "code",
   "execution_count": 15,
   "metadata": {},
   "outputs": [],
   "source": [
    "# The important question here is, how correlated are the values to each other? \n",
    "# First look at the diffeent categories."
   ]
  },
  {
   "cell_type": "code",
   "execution_count": 8,
   "metadata": {},
   "outputs": [
    {
     "data": {
      "image/png": "[encoded data removed]",
      "text/plain": [
       "<Figure size 432x288 with 1 Axes>"
      ]
     },
     "metadata": {},
     "output_type": "display_data"
    },
    {
     "data": {
      "text/html": [
       "<div>\n",
       "<style scoped>\n",
       "    .dataframe tbody tr th:only-of-type {\n",
       "        vertical-align: middle;\n",
       "    }\n",
       "\n",
       "    .dataframe tbody tr th {\n",
       "        vertical-align: top;\n",
       "    }\n",
       "\n",
       "    .dataframe thead th {\n",
       "        text-align: right;\n",
       "    }\n",
       "</style>\n",
       "<table border=\"1\" class=\"dataframe\">\n",
       "  <thead>\n",
       "    <tr style=\"text-align: right;\">\n",
       "      <th></th>\n",
       "      <th>Viz</th>\n",
       "      <th>CS</th>\n",
       "      <th>Math</th>\n",
       "      <th>Stats</th>\n",
       "      <th>ML</th>\n",
       "      <th>Bus</th>\n",
       "      <th>Com</th>\n",
       "    </tr>\n",
       "  </thead>\n",
       "  <tbody>\n",
       "    <tr>\n",
       "      <th>Viz</th>\n",
       "      <td>1.000000</td>\n",
       "      <td>0.282906</td>\n",
       "      <td>0.015144</td>\n",
       "      <td>0.270820</td>\n",
       "      <td>0.328538</td>\n",
       "      <td>0.437584</td>\n",
       "      <td>0.368496</td>\n",
       "    </tr>\n",
       "    <tr>\n",
       "      <th>CS</th>\n",
       "      <td>0.282906</td>\n",
       "      <td>1.000000</td>\n",
       "      <td>0.215316</td>\n",
       "      <td>0.101657</td>\n",
       "      <td>0.481906</td>\n",
       "      <td>0.107712</td>\n",
       "      <td>0.185016</td>\n",
       "    </tr>\n",
       "    <tr>\n",
       "      <th>Math</th>\n",
       "      <td>0.015144</td>\n",
       "      <td>0.215316</td>\n",
       "      <td>1.000000</td>\n",
       "      <td>0.670016</td>\n",
       "      <td>0.272858</td>\n",
       "      <td>-0.044132</td>\n",
       "      <td>-0.037995</td>\n",
       "    </tr>\n",
       "    <tr>\n",
       "      <th>Stats</th>\n",
       "      <td>0.270820</td>\n",
       "      <td>0.101657</td>\n",
       "      <td>0.670016</td>\n",
       "      <td>1.000000</td>\n",
       "      <td>0.321812</td>\n",
       "      <td>0.201824</td>\n",
       "      <td>0.114225</td>\n",
       "    </tr>\n",
       "    <tr>\n",
       "      <th>ML</th>\n",
       "      <td>0.328538</td>\n",
       "      <td>0.481906</td>\n",
       "      <td>0.272858</td>\n",
       "      <td>0.321812</td>\n",
       "      <td>1.000000</td>\n",
       "      <td>0.117302</td>\n",
       "      <td>0.083175</td>\n",
       "    </tr>\n",
       "    <tr>\n",
       "      <th>Bus</th>\n",
       "      <td>0.437584</td>\n",
       "      <td>0.107712</td>\n",
       "      <td>-0.044132</td>\n",
       "      <td>0.201824</td>\n",
       "      <td>0.117302</td>\n",
       "      <td>1.000000</td>\n",
       "      <td>0.589699</td>\n",
       "    </tr>\n",
       "    <tr>\n",
       "      <th>Com</th>\n",
       "      <td>0.368496</td>\n",
       "      <td>0.185016</td>\n",
       "      <td>-0.037995</td>\n",
       "      <td>0.114225</td>\n",
       "      <td>0.083175</td>\n",
       "      <td>0.589699</td>\n",
       "      <td>1.000000</td>\n",
       "    </tr>\n",
       "  </tbody>\n",
       "</table>\n",
       "</div>"
      ],
      "text/plain": [
       "            Viz        CS      Math     Stats        ML       Bus       Com\n",
       "Viz    1.000000  0.282906  0.015144  0.270820  0.328538  0.437584  0.368496\n",
       "CS     0.282906  1.000000  0.215316  0.101657  0.481906  0.107712  0.185016\n",
       "Math   0.015144  0.215316  1.000000  0.670016  0.272858 -0.044132 -0.037995\n",
       "Stats  0.270820  0.101657  0.670016  1.000000  0.321812  0.201824  0.114225\n",
       "ML     0.328538  0.481906  0.272858  0.321812  1.000000  0.117302  0.083175\n",
       "Bus    0.437584  0.107712 -0.044132  0.201824  0.117302  1.000000  0.589699\n",
       "Com    0.368496  0.185016 -0.037995  0.114225  0.083175  0.589699  1.000000"
      ]
     },
     "execution_count": 8,
     "metadata": {},
     "output_type": "execute_result"
    }
   ],
   "source": [
    "c_mat = dpro.corr()\n",
    "\n",
    "fig, ax = plt.subplots()\n",
    "heatmap = ax.pcolor(c_mat, cmap=plt.cm.RdBu)\n",
    "\n",
    "#Set the tick labels and center them\n",
    "ax.set_xticks(np.arange(c_mat.shape[0])+0.5, minor=False)\n",
    "ax.set_yticks(np.arange(c_mat.shape[1])+0.5, minor=False)\n",
    "ax.set_xticklabels(c_mat.index.values, minor=False)\n",
    "ax.set_yticklabels(c_mat.index.values, minor=False)\n",
    "plt.show()\n",
    "c_mat"
   ]
  },
  {
   "cell_type": "code",
   "execution_count": 17,
   "metadata": {},
   "outputs": [],
   "source": [
    "# So business and communications are highly correlated with each other.  So are Math and stats.  \n",
    "# But math and business or communications not so highly correlated, same with stats. \n",
    "# Suggests segments might exist within this population."
   ]
  },
  {
   "cell_type": "code",
   "execution_count": 20,
   "metadata": {},
   "outputs": [],
   "source": [
    "# we can try to choose k by figuring out which value minimizes the within cluster sum of squares.  This is called inertia"
   ]
  },
  {
   "cell_type": "code",
   "execution_count": 21,
   "metadata": {},
   "outputs": [
    {
     "data": {
      "text/plain": [
       "KMeans(algorithm='auto', copy_x=True, init='k-means++', max_iter=300,\n",
       "    n_clusters=2, n_init=5, n_jobs=None, precompute_distances='auto',\n",
       "    random_state=None, tol=0.0001, verbose=0)"
      ]
     },
     "execution_count": 21,
     "metadata": {},
     "output_type": "execute_result"
    }
   ],
   "source": [
    "km = cluster.KMeans(n_clusters=2, init='k-means++', n_init=5)\n",
    "km.fit(dpro)"
   ]
  },
  {
   "cell_type": "code",
   "execution_count": 22,
   "metadata": {},
   "outputs": [],
   "source": [
    "inert_k = []\n",
    "sil_k = []\n",
    "\n",
    "for k in range(2, 20):\n",
    "    km = cluster.KMeans(n_clusters=k, init='k-means++', n_init=5)\n",
    "    km.fit(dpro)\n",
    "    inert_k.append(km.inertia_)\n",
    "    sil_k.append(metrics.silhouette_score(dpro, km.labels_, metric='euclidean'))"
   ]
  },
  {
   "cell_type": "code",
   "execution_count": 25,
   "metadata": {},
   "outputs": [
    {
     "data": {
      "text/plain": [
       "Text(0.5,1,'Silhoette Coefficient by k')"
      ]
     },
     "execution_count": 25,
     "metadata": {},
     "output_type": "execute_result"
    },
    {
     "data": {
      "image/png": "[encoded data removed]",
      "text/plain": [
       "<Figure size 1080x648 with 2 Axes>"
      ]
     },
     "metadata": {},
     "output_type": "display_data"
    }
   ],
   "source": [
    "fix = plt.figure(figsize = (15, 9))\n",
    "ax1 = plt.subplot(211)\n",
    "plt.bar(range(2,20), inert_k, 0.35)\n",
    "plt.title('Inertia by k')\n",
    "plt.tick_params(axis='x',which='both',bottom=False,top=False,labelbottom=False)\n",
    "ax1 = plt.subplot(212)\n",
    "plt.bar(range(2,20), sil_k, 0.35)\n",
    "plt.title('Silhoette Coefficient by k')"
   ]
  },
  {
   "cell_type": "code",
   "execution_count": 26,
   "metadata": {},
   "outputs": [],
   "source": [
    "# So as k increase, the inertia ALWAYS decreases (as it should in general).\n",
    "# The silhoette coefficient though is small.  Values close to zero indicate the clusters are dense and not well separated.  So these aren't good clusters. \n",
    "# The way you compute the silhoette score is as follows:"
   ]
  },
  {
   "cell_type": "markdown",
   "metadata": {},
   "source": [
    "For each sample in the dataset:\n",
    "* a = compute the mean distance between the sample and all other points in the same class.\n",
    "* b = compute the mean distance between a sample and all other points in the next nearest cluster\n",
    "* The silhoette coefficient is then given by:\n",
    "    $s = \\frac{b-a}{\\max(a,b)}$\n",
    "* The silhoette coefficient for a set of samples is given as the mean of the silhoette coefficient for each sample "
   ]
  },
  {
   "cell_type": "code",
   "execution_count": 28,
   "metadata": {},
   "outputs": [
    {
     "data": {
      "image/png": "[encoded data removed]",
      "text/plain": [
       "<Figure size 864x648 with 6 Axes>"
      ]
     },
     "metadata": {},
     "output_type": "display_data"
    }
   ],
   "source": [
    "# Look at the distribution of clusters\n",
    "\n",
    "fig = plt.figure(figsize = (12, 9))\n",
    "for k in range(2, 8):\n",
    "    km = cluster.KMeans(n_clusters = k, init = 'k-means++', n_init = 5)\n",
    "    km.fit(dpro)\n",
    "    ax = fig.add_subplot(3, 2 , k - 1)\n",
    "    plt.hist(km.labels_)\n",
    "    plt.title('k={}'.format(k))\n",
    "\n",
    "fig.tight_layout()\n",
    "\n",
    "plt.show()"
   ]
  },
  {
   "cell_type": "markdown",
   "metadata": {},
   "source": [
    "This doesn't directly tell us what the right number of clusters is, but if we have an idea of what we are looking for,\n",
    "this can at least tell us if we have a hope of getting some sensible the output.\n",
    "Imagine now that we wanted to assign students to work together on a project.  We'll define a group as having 4 students.\n",
    "Furthermore, we'd like to assign students to groups in order to maximize the diversity of a group.  That is, we'd like\n",
    "to pick the students so that each one of the 4 represent a different skill set.  Based on this, what we're looking for\n",
    "is 4 clusters.  The plots above suggest that k = 4 should give us something reasonably separable.  However, we still\n",
    "don't really know what the clusters will be.  We can try and interpret them based on plotting the distribution of\n",
    "features (in this case, scores by subject) within each cluster"
   ]
  },
  {
   "cell_type": "code",
   "execution_count": 30,
   "metadata": {},
   "outputs": [],
   "source": [
    "km = cluster.KMeans(n_clusters=4, init='k-means++', n_init=10)\n",
    "km.fit(dpro)\n",
    "cols = ['r', 'y', 'b', 'g']"
   ]
  },
  {
   "cell_type": "code",
   "execution_count": 42,
   "metadata": {},
   "outputs": [],
   "source": [
    "# We'll need to generate the actual predicted cluster labels here for our\n",
    "# data.  I'll make a copy of the original dataframe and add these.  You\n",
    "# could always just add these to the original dataframe as well if you'd\n",
    "# like.\n",
    "preds = dpro.copy()\n",
    "preds['cluster'] = km.predict(dpro)"
   ]
  },
  {
   "cell_type": "code",
   "execution_count": 44,
   "metadata": {},
   "outputs": [
    {
     "data": {
      "text/html": [
       "<div>\n",
       "<style scoped>\n",
       "    .dataframe tbody tr th:only-of-type {\n",
       "        vertical-align: middle;\n",
       "    }\n",
       "\n",
       "    .dataframe tbody tr th {\n",
       "        vertical-align: top;\n",
       "    }\n",
       "\n",
       "    .dataframe thead th {\n",
       "        text-align: right;\n",
       "    }\n",
       "</style>\n",
       "<table border=\"1\" class=\"dataframe\">\n",
       "  <thead>\n",
       "    <tr style=\"text-align: right;\">\n",
       "      <th></th>\n",
       "      <th>Viz</th>\n",
       "      <th>CS</th>\n",
       "      <th>Math</th>\n",
       "      <th>Stats</th>\n",
       "      <th>ML</th>\n",
       "      <th>Bus</th>\n",
       "      <th>Com</th>\n",
       "      <th>cluster</th>\n",
       "    </tr>\n",
       "  </thead>\n",
       "  <tbody>\n",
       "    <tr>\n",
       "      <th>0</th>\n",
       "      <td>2</td>\n",
       "      <td>2</td>\n",
       "      <td>2</td>\n",
       "      <td>5</td>\n",
       "      <td>0</td>\n",
       "      <td>3</td>\n",
       "      <td>6</td>\n",
       "      <td>1</td>\n",
       "    </tr>\n",
       "    <tr>\n",
       "      <th>1</th>\n",
       "      <td>4</td>\n",
       "      <td>9</td>\n",
       "      <td>7</td>\n",
       "      <td>7</td>\n",
       "      <td>6</td>\n",
       "      <td>3</td>\n",
       "      <td>8</td>\n",
       "      <td>2</td>\n",
       "    </tr>\n",
       "    <tr>\n",
       "      <th>2</th>\n",
       "      <td>7</td>\n",
       "      <td>5</td>\n",
       "      <td>4</td>\n",
       "      <td>3</td>\n",
       "      <td>2</td>\n",
       "      <td>9</td>\n",
       "      <td>9</td>\n",
       "      <td>0</td>\n",
       "    </tr>\n",
       "    <tr>\n",
       "      <th>3</th>\n",
       "      <td>7</td>\n",
       "      <td>7</td>\n",
       "      <td>5</td>\n",
       "      <td>4</td>\n",
       "      <td>1</td>\n",
       "      <td>6</td>\n",
       "      <td>8</td>\n",
       "      <td>0</td>\n",
       "    </tr>\n",
       "    <tr>\n",
       "      <th>4</th>\n",
       "      <td>7</td>\n",
       "      <td>6</td>\n",
       "      <td>8</td>\n",
       "      <td>8</td>\n",
       "      <td>4</td>\n",
       "      <td>6</td>\n",
       "      <td>7</td>\n",
       "      <td>2</td>\n",
       "    </tr>\n",
       "  </tbody>\n",
       "</table>\n",
       "</div>"
      ],
      "text/plain": [
       "   Viz  CS  Math  Stats  ML  Bus  Com  cluster\n",
       "0    2   2     2      5   0    3    6        1\n",
       "1    4   9     7      7   6    3    8        2\n",
       "2    7   5     4      3   2    9    9        0\n",
       "3    7   7     5      4   1    6    8        0\n",
       "4    7   6     8      8   4    6    7        2"
      ]
     },
     "execution_count": 44,
     "metadata": {},
     "output_type": "execute_result"
    }
   ],
   "source": [
    "# The column cluster contains the predicted cluster for each student (row)\n",
    "preds.head()"
   ]
  },
  {
   "cell_type": "code",
   "execution_count": 31,
   "metadata": {},
   "outputs": [
    {
     "name": "stderr",
     "output_type": "stream",
     "text": [
      "/Users/danielokeeffe/miniconda2/envs/basic_ml/lib/python2.7/site-packages/matplotlib/cbook/deprecation.py:107: MatplotlibDeprecationWarning: Adding an axes using the same arguments as a previous axes currently reuses the earlier instance.  In a future version, a new instance will always be created and returned.  Meanwhile, this warning can be suppressed, and the future behavior ensured, by passing a unique label to each axes instance.\n",
      "  warnings.warn(message, mplDeprecation, stacklevel=1)\n"
     ]
    },
    {
     "data": {
      "text/plain": [
       "<matplotlib.legend.Legend at 0x116c4b610>"
      ]
     },
     "execution_count": 31,
     "metadata": {},
     "output_type": "execute_result"
    },
    {
     "data": {
      "image/png": "[encoded data removed]",
      "text/plain": [
       "<Figure size 864x360 with 1 Axes>"
      ]
     },
     "metadata": {},
     "output_type": "display_data"
    }
   ],
   "source": [
    "fig = plt.figure(figsize = (12, 5))\n",
    "for i, cc in enumerate(km.cluster_centers_):\n",
    "    w = 0.15\n",
    "    ax = fig.add_subplot(1, 1, 1)\n",
    "    plt.bar(np.arange(len(cc)) + i*w, cc - dpro.mean(), w, color = cols[i], label='Cluster {}'.format(i))\n",
    "    ax.set_xticklabels(dpro.columns.values)\n",
    "    ax.set_xticks(np.arange(len(cc))+2*w)\n",
    "\n",
    "plt.ylabel('Mean Adjusted Score')\n",
    "plt.title('Avg Scores by Cluster')\n",
    "plt.legend(loc = 3, ncol = 4, prop={'size':9})"
   ]
  },
  {
   "cell_type": "markdown",
   "metadata": {},
   "source": [
    "Here, aach coloured bar represents a cluster, and each grouping along the x-axis represents one of the subjects. \n",
    "On the y-axis, we plot the centre coordinates of each cluster, for each subject, \n",
    "with the mean score be subject subtracted. This provides a measure of how far along each of subject \"axes\" we are compared to the average across the entire dataset. A large value means that this cluster contains more examples from a subject than you might otherwise expect from the average population.  Similarly, a negative value indicates the opposite; the cluster does not tell us about this particular subject. i.e. the students in this cluster do not have the skill in question."
   ]
  },
  {
   "cell_type": "markdown",
   "metadata": {},
   "source": [
    "# Examining this plot, we can get a sense of what each cluster is about:\n",
    "* Cluster 0: Students who are very strong in business and communications\n",
    "* Cluster 1: Students who report themselves as being very low in all skills (or maybe just those who lack self confidence?)\n",
    "* Cluster 2: Students who report themselves as good at pretty much everything (maybe over confident!)\n",
    "* Cluster 3: Science student. They are good at pure and applied math/computer science, but not at all comfortable with business or communications.\n",
    "\n",
    "Of course, these interpretations are somewhat arbitrary, but this is how you could start to label the individual clusters."
   ]
  },
  {
   "cell_type": "markdown",
   "metadata": {},
   "source": [
    "## Visualize with modified pyLDAvis.\n",
    "* Here we'll take more explicit look at a way to visualize what's in each cluster and get sense of how well separated they are by projecting the higher dimensional clusters down to two dimensions (here, using t-SNE: https://en.wikipedia.org/wiki/T-distributed_stochastic_neighbor_embedding)"
   ]
  },
  {
   "cell_type": "code",
   "execution_count": 45,
   "metadata": {},
   "outputs": [],
   "source": [
    "# Move these imports up at the end\n",
    "import pyLDAvis\n",
    "from collections import Counter"
   ]
  },
  {
   "cell_type": "code",
   "execution_count": 38,
   "metadata": {},
   "outputs": [],
   "source": [
    "# Import the custom module\n",
    "import kmeans_vis"
   ]
  },
  {
   "cell_type": "code",
   "execution_count": 127,
   "metadata": {},
   "outputs": [
    {
     "data": {
      "text/plain": [
       "<module 'kmeans_vis' from 'kmeans_vis.py'>"
      ]
     },
     "execution_count": 127,
     "metadata": {},
     "output_type": "execute_result"
    }
   ],
   "source": [
    "# Reload kmeans_vis if you add any functions to it\n",
    "reload(kmeans_vis)"
   ]
  },
  {
   "cell_type": "code",
   "execution_count": 107,
   "metadata": {},
   "outputs": [],
   "source": [
    "# Now we need to run a few things here.\n",
    "# We need to get the centres of the clusters.\n",
    "centres = km.cluster_centers_\n",
    "# We need the cluster sizes. The size is literally the count of of the\n",
    "# predicted clusters in our data\n",
    "labels = preds['cluster']\n",
    "cluster_size = Counter(labels)\n",
    "# Convert this to an array\n",
    "cluster_size = np.asarray([cluster_size.get(c, 0) for c in range(n_clusters)])\n",
    "# We need the cluster radius. This is an arbitrary value which is used to\n",
    "# scale the coordinates for the visualization. \n",
    "# You can play around with this value to see what the effect is.\n",
    "radius = 3.5\n",
    "# We need the embedding method (here we'll use t-SNE, you can use pca here also by setting this to 'pca')\n",
    "embedding_method = 'tsne'"
   ]
  },
  {
   "cell_type": "code",
   "execution_count": 108,
   "metadata": {},
   "outputs": [],
   "source": [
    "# Now we need to generate the cluster coordinates in our two dimensional\n",
    "# projection\n",
    "cluster_coordinates = kmeans_vis._get_cluster_coordinates(centres=centres, \n",
    "                                                          cluster_size=cluster_size, \n",
    "                                                          radius=radius, \n",
    "                                                          embedding_method=embedding_method)"
   ]
  },
  {
   "cell_type": "code",
   "execution_count": 109,
   "metadata": {},
   "outputs": [],
   "source": [
    "# Next we need to get some additional cluster info.  You may see some\n",
    "# left over language from pyLDAvis about topics. The topics are just the\n",
    "# clusters here."
   ]
  },
  {
   "cell_type": "code",
   "execution_count": 110,
   "metadata": {},
   "outputs": [],
   "source": [
    "# We need the predictor frequency.  This is literally the frequency of \n",
    "# each of the variables in our dataset\n",
    "predictor_frequency = np.asarray(dpro.values.sum(axis=0)).reshape(-1)"
   ]
  },
  {
   "cell_type": "code",
   "execution_count": 111,
   "metadata": {},
   "outputs": [
    {
     "data": {
      "text/plain": [
       "array([608, 657, 976, 929, 530, 684, 974])"
      ]
     },
     "execution_count": 111,
     "metadata": {},
     "output_type": "execute_result"
    }
   ],
   "source": [
    "predictor_frequency"
   ]
  },
  {
   "cell_type": "code",
   "execution_count": 112,
   "metadata": {},
   "outputs": [],
   "source": [
    "# The plotting won't work if we have a zero in here (we don't in this \n",
    "# case, but in the unlikely event that this happens, replace it with a\n",
    "# number way smaller than anything else)\n",
    "predictor_frequency[np.where(predictor_frequency == 0)[0]] = 0.01"
   ]
  },
  {
   "cell_type": "code",
   "execution_count": 113,
   "metadata": {},
   "outputs": [],
   "source": [
    "# Next, we need the weighted centres. This is just the cluster centres\n",
    "# weighted by the number of observations per cluster\n",
    "n_observations, n_predictors = dpro.values.shape\n",
    "n_clusters = centres.shape[0]\n",
    "weighted_centres = np.zeros((n_clusters, n_predictors))\n",
    "for c, n_observations in enumerate(cluster_size):\n",
    "    weighted_centres[c] = centres[c] * n_observations"
   ]
  },
  {
   "cell_type": "code",
   "execution_count": 114,
   "metadata": {},
   "outputs": [
    {
     "data": {
      "text/plain": [
       "array([[214., 163., 243., 262., 107., 313., 332.],\n",
       "       [ 91.,  89., 193., 157.,  59., 109., 198.],\n",
       "       [163., 181., 207., 208., 186., 171., 205.],\n",
       "       [140., 224., 333., 302., 178.,  91., 239.]])"
      ]
     },
     "execution_count": 114,
     "metadata": {},
     "output_type": "execute_result"
    }
   ],
   "source": [
    "weighted_centres"
   ]
  },
  {
   "cell_type": "code",
   "execution_count": 115,
   "metadata": {},
   "outputs": [],
   "source": [
    "# We'll want to define the number of candidate features to print in the\n",
    "# visualization. You can change this by adjusting:\n",
    "n_candidate_words = 50"
   ]
  },
  {
   "cell_type": "code",
   "execution_count": 120,
   "metadata": {},
   "outputs": [],
   "source": [
    "# Finally, in NLP applications you frequently produce an index2word \n",
    "# mapping.  This is just a map between the words in your corpus, and a\n",
    "# unique identifier index. In this case, we can just use the name of the \n",
    "# columns used for clustering."
   ]
  },
  {
   "cell_type": "code",
   "execution_count": 117,
   "metadata": {},
   "outputs": [],
   "source": [
    "cluster_info = kmeans_vis._get_cluster_info(centres=centres, \n",
    "                                            cluster_size=cluster_size, \n",
    "                                            weighted_centres=weighted_centres, \n",
    "                                            term_frequency=predictor_frequency, \n",
    "                                            n_candidate_words=n_candidate_words,\n",
    "                                            index2word=dpro.columns.tolist())"
   ]
  },
  {
   "cell_type": "code",
   "execution_count": 123,
   "metadata": {},
   "outputs": [],
   "source": [
    "# Now we need to generate a cluster table\n",
    "cluster_table = kmeans_vis._get_cluster_table(weighted_centres=weighted_centres, \n",
    "                                              cluster_info=cluster_info, \n",
    "                                              index2word=dpro.columns.tolist())"
   ]
  },
  {
   "cell_type": "code",
   "execution_count": 128,
   "metadata": {},
   "outputs": [],
   "source": [
    "# convert to pandas.DataFrame\n",
    "cluster_coordinate_df = kmeans_vis._df_cluster_coordinate(cluster_coordinates)\n",
    "cluster_info_df = kmeans_vis._df_cluster_info(cluster_info)\n",
    "cluster_table_df = kmeans_vis._df_cluster_table(cluster_table)"
   ]
  },
  {
   "cell_type": "code",
   "execution_count": 129,
   "metadata": {},
   "outputs": [],
   "source": [
    "# There are few parameters we need to set within pyLDAvis\n",
    "n_printed_words = 30\n",
    "lambda_step = 0.01"
   ]
  },
  {
   "cell_type": "code",
   "execution_count": 132,
   "metadata": {},
   "outputs": [],
   "source": [
    "# We also need to pass a cluster order.  In this, we order by size.\n",
    "cluster_order = cluster_size.argsort()[::-1].tolist()"
   ]
  },
  {
   "cell_type": "code",
   "execution_count": 133,
   "metadata": {},
   "outputs": [
    {
     "data": {
      "text/plain": [
       "[3, 0, 1, 2]"
      ]
     },
     "execution_count": 133,
     "metadata": {},
     "output_type": "execute_result"
    }
   ],
   "source": [
    "cluster_order"
   ]
  },
  {
   "cell_type": "code",
   "execution_count": 135,
   "metadata": {},
   "outputs": [],
   "source": [
    "# Finally, we need to set the plot options.  This is the type of \n",
    "# projection we are going to use along the two directions.  We've selected\n",
    "# t-sne here.\n",
    "if embedding_method == 'pca':\n",
    "    plot_opts={'xlab': 'PCA1', 'ylab': 'PCA2'}\n",
    "else:\n",
    "    plot_opts={'xlab': 't-SNE1', 'ylab': 't-SNE2'}"
   ]
  },
  {
   "cell_type": "code",
   "execution_count": 136,
   "metadata": {},
   "outputs": [],
   "source": [
    "# ready pyLDAvis.PreparedData\n",
    "prepared_data = pyLDAvis.PreparedData(cluster_coordinate_df,\n",
    "                                      cluster_info_df,\n",
    "                                      cluster_table_df,\n",
    "                                      n_printed_words,\n",
    "                                      lambda_step,\n",
    "                                      plot_opts,\n",
    "                                      cluster_order)"
   ]
  },
  {
   "cell_type": "code",
   "execution_count": 137,
   "metadata": {},
   "outputs": [
    {
     "data": {
      "text/html": [
       "\n",
       "<link rel=\"stylesheet\" type=\"text/css\" href=\"https://cdn.rawgit.com/bmabey/pyLDAvis/files/ldavis.v1.0.0.css\">\n",
       "\n",
       "\n",
       "<div id=\"ldavis_el1520246855493921063200480\"></div>\n",
       "<script type=\"text/javascript\">\n",
       "\n",
       "var ldavis_el1520246855493921063200480_data = {\"plot.opts\": {\"xlab\": \"t-SNE1\", \"ylab\": \"t-SNE2\"}, \"topic.order\": [3, 0, 1, 2], \"token.table\": {\"Topic\": [1, 1, 1, 1, 1, 1, 1, 2, 2, 2, 2, 2, 2, 2, 3, 3, 3, 3, 3, 3, 3, 4, 4, 4, 4, 4, 4, 4], \"term\": [6, 5, 3, 2, 0, 1, 4, 6, 2, 3, 5, 0, 1, 4, 3, 2, 6, 4, 1, 5, 0, 2, 3, 6, 1, 4, 0, 5], \"Term\": [\"Com\", \"Bus\", \"Stats\", \"Math\", \"Viz\", \"CS\", \"ML\", \"Com\", \"Math\", \"Stats\", \"Bus\", \"Viz\", \"CS\", \"ML\", \"Stats\", \"Math\", \"Com\", \"ML\", \"CS\", \"Bus\", \"Viz\", \"Math\", \"Stats\", \"Com\", \"CS\", \"ML\", \"Viz\", \"Bus\"], \"Freq\": [0.3408624229979466, 0.4576023391812865, 0.28202368137782563, 0.2489754098360656, 0.3519736842105263, 0.2480974124809741, 0.2018867924528301, 0.20328542094455854, 0.19774590163934427, 0.16899892357373522, 0.15935672514619886, 0.14967105263157895, 0.13546423135464242, 0.1113207547169811, 0.22389666307857914, 0.21209016393442626, 0.21047227926078035, 0.3509433962264151, 0.2754946727549468, 0.25, 0.2680921052631579, 0.3411885245901639, 0.32508073196986004, 0.2453798767967146, 0.3409436834094368, 0.3358490566037736, 0.23026315789473684, 0.13304093567251465]}, \"mdsDat\": {\"topics\": [1, 2, 3, 4], \"topic\": [4, 1, 2, 3], \"cluster\": [1, 1, 1, 1], \"y\": [-5.0, -1.4583061000000002, 0.9549504000000001, -2.586741], \"x\": [-0.13431405, -2.5475687999999996, 0.99411744, 3.407393], \"Freq\": [3.7, 3.2009861513045914, 2.330774416825681, 0.2]}, \"R\": 30, \"lambda.step\": 0.01, \"tinfo\": {\"Category\": [\"Default\", \"Default\", \"Default\", \"Default\", \"Default\", \"Default\", \"Default\", \"Topic1\", \"Topic1\", \"Topic1\", \"Topic1\", \"Topic1\", \"Topic1\", \"Topic1\", \"Topic2\", \"Topic2\", \"Topic2\", \"Topic2\", \"Topic2\", \"Topic2\", \"Topic2\", \"Topic3\", \"Topic3\", \"Topic3\", \"Topic3\", \"Topic3\", \"Topic3\", \"Topic3\", \"Topic4\", \"Topic4\", \"Topic4\", \"Topic4\", \"Topic4\", \"Topic4\", \"Topic4\"], \"term\": [2, 6, 3, 5, 1, 0, 4, 6, 5, 3, 2, 0, 1, 4, 6, 2, 3, 5, 0, 1, 4, 3, 2, 6, 4, 1, 5, 0, 2, 3, 6, 1, 4, 0, 5], \"Term\": [\"Math\", \"Com\", \"Stats\", \"Bus\", \"CS\", \"Viz\", \"ML\", \"Com\", \"Bus\", \"Stats\", \"Math\", \"Viz\", \"CS\", \"ML\", \"Com\", \"Math\", \"Stats\", \"Bus\", \"Viz\", \"CS\", \"ML\", \"Stats\", \"Math\", \"Com\", \"ML\", \"CS\", \"Bus\", \"Viz\", \"Math\", \"Stats\", \"Com\", \"CS\", \"ML\", \"Viz\", \"Bus\"], \"loglift\": [25.0, 24.0, 24.0, 20.0, 20.0, 19.0, 18.0, 0.5409863323467793, 0.6578591803032576, 0.4723586658572033, 0.43037608660293136, 0.5531465949253573, 0.4292239896818573, 0.36568439407149067, 0.5595969525681986, 0.5510637126983863, 0.5031682619307221, 0.4856014329674366, 0.4671047333752073, 0.43829783476777134, 0.3841645823422454, 0.4685445364946988, 0.4513396647489506, 0.4489366041854495, 0.6229803883827012, 0.5374775743604417, 0.5046249999999999, 0.5281673296539944, 0.5695976341663617, 0.5517372577614307, 0.4538331211409671, 0.5693305305397797, 0.5637423495528571, 0.43324740279777824, 0.28168415197589897], \"Freq\": [0.99, 0.99, 0.99, 0.99, 0.99, 0.99, 0.99, 332.0, 312.99999999999994, 262.0, 243.0, 214.0, 162.99999999999997, 106.99999999999993, 198.00000000000003, 193.0, 157.00000000000003, 109.0, 91.0, 89.00000000000006, 58.99999999999998, 208.00000000000003, 207.0, 205.00000000000003, 186.00000000000003, 181.00000000000003, 170.99999999999997, 163.0, 333.0, 302.0, 239.00000000000003, 223.99999999999997, 178.0, 140.0, 91.00000000000004], \"Total\": [976, 974, 929, 684, 657, 608, 530, 974, 684, 929, 976, 608, 657, 530, 974, 976, 929, 684, 608, 657, 530, 929, 976, 974, 530, 657, 684, 608, 976, 929, 974, 657, 530, 608, 684], \"logprob\": [25.0, 24.0, 24.0, 20.0, 20.0, 19.0, 18.0, 0.2031823745410037, 0.19155446756425956, 0.16034271725826196, 0.14871481028151776, 0.1309669522643819, 0.09975520195838436, 0.06548347613219091, 0.2209821428571428, 0.21540178571428564, 0.17522321428571427, 0.12165178571428573, 0.1015625, 0.0993303571428572, 0.06584821428571425, 0.1574564723694171, 0.15669947009841026, 0.15518546555639665, 0.14080242240726726, 0.13701741105223314, 0.12944738834216504, 0.12339137017411053, 0.22096881220968811, 0.20039814200398146, 0.15859323158593233, 0.1486396814863968, 0.1181154611811546, 0.09289980092899804, 0.06038487060384875]}};\n",
       "\n",
       "function LDAvis_load_lib(url, callback){\n",
       "  var s = document.createElement('script');\n",
       "  s.src = url;\n",
       "  s.async = true;\n",
       "  s.onreadystatechange = s.onload = callback;\n",
       "  s.onerror = function(){console.warn(\"failed to load library \" + url);};\n",
       "  document.getElementsByTagName(\"head\")[0].appendChild(s);\n",
       "}\n",
       "\n",
       "if(typeof(LDAvis) !== \"undefined\"){\n",
       "   // already loaded: just create the visualization\n",
       "   !function(LDAvis){\n",
       "       new LDAvis(\"#\" + \"ldavis_el1520246855493921063200480\", ldavis_el1520246855493921063200480_data);\n",
       "   }(LDAvis);\n",
       "}else if(typeof define === \"function\" && define.amd){\n",
       "   // require.js is available: use it to load d3/LDAvis\n",
       "   require.config({paths: {d3: \"https://cdnjs.cloudflare.com/ajax/libs/d3/3.5.5/d3.min\"}});\n",
       "   require([\"d3\"], function(d3){\n",
       "      window.d3 = d3;\n",
       "      LDAvis_load_lib(\"https://cdn.rawgit.com/bmabey/pyLDAvis/files/ldavis.v1.0.0.js\", function(){\n",
       "        new LDAvis(\"#\" + \"ldavis_el1520246855493921063200480\", ldavis_el1520246855493921063200480_data);\n",
       "      });\n",
       "    });\n",
       "}else{\n",
       "    // require.js not available: dynamically load d3 & LDAvis\n",
       "    LDAvis_load_lib(\"https://cdnjs.cloudflare.com/ajax/libs/d3/3.5.5/d3.min.js\", function(){\n",
       "         LDAvis_load_lib(\"https://cdn.rawgit.com/bmabey/pyLDAvis/files/ldavis.v1.0.0.js\", function(){\n",
       "                 new LDAvis(\"#\" + \"ldavis_el1520246855493921063200480\", ldavis_el1520246855493921063200480_data);\n",
       "            })\n",
       "         });\n",
       "}\n",
       "</script>"
      ],
      "text/plain": [
       "<IPython.core.display.HTML object>"
      ]
     },
     "execution_count": 137,
     "metadata": {},
     "output_type": "execute_result"
    }
   ],
   "source": [
    "pyLDAvis.display(prepared_data)"
   ]
  },
  {
   "cell_type": "markdown",
   "metadata": {},
   "source": [
    "So let's see if this corresponds with what we found in the earlier plot of mean adjusted score in the clusters:\n",
    "* Cluster 1: Heavier on communications and business (this is cluster 0 above)\n",
    "* Cluster 2: Students who have ranked themselves low on everything (cluster 1 above)\n",
    "* Cluster 3: Students who have ranked themselves higher on everything (cluster 2 above)\n",
    "* Cluster 4: Science students (cluster 3 above)"
   ]
  },
  {
   "cell_type": "code",
   "execution_count": null,
   "metadata": {},
   "outputs": [],
   "source": [
    "# You can export this as:"
   ]
  },
  {
   "cell_type": "code",
   "execution_count": null,
   "metadata": {},
   "outputs": [],
   "source": []
  },
  {
   "cell_type": "code",
   "execution_count": null,
   "metadata": {},
   "outputs": [],
   "source": []
  }
 ],
 "metadata": {
  "kernelspec": {
   "display_name": "Python [conda env:basic_ml]",
   "language": "python",
   "name": "conda-env-basic_ml-py"
  },
  "language_info": {
   "codemirror_mode": {
    "name": "ipython",
    "version": 2
   },
   "file_extension": ".py",
   "mimetype": "text/x-python",
   "name": "python",
   "nbconvert_exporter": "python",
   "pygments_lexer": "ipython2",
   "version": "2.7.15"
  }
 },
 "nbformat": 4,
 "nbformat_minor": 2
}
